{
 "cells": [
  {
   "cell_type": "code",
   "execution_count": null,
   "id": "0eb87804",
   "metadata": {},
   "outputs": [],
   "source": [
    "import tkinter as tk\n",
    "\n",
    "def calculate():\n",
    "    num1 = int(entry_1.get())\n",
    "    num2 = int(entry_2.get())\n",
    "    operation = var.get()\n",
    "    if operation == 1:\n",
    "        result = num1 + num2\n",
    "    elif operation == 2:\n",
    "        result = num1 - num2\n",
    "    elif operation == 3:\n",
    "        result = num1 * num2\n",
    "    else:\n",
    "        result = num1 / num2\n",
    "    result_label.config(text=\"Result: \" + str(result))\n",
    "\n",
    "root = tk.Tk()\n",
    "root.geometry(\"200x200\")\n",
    "root.title(\"Calculator\")\n",
    "\n",
    "var = tk.IntVar()\n",
    "\n",
    "entry_1 = tk.Entry(root)\n",
    "entry_2 = tk.Entry(root)\n",
    "\n",
    "add_button = tk.Radiobutton(root, text=\"Add\", variable=var, value=1)\n",
    "subtract_button = tk.Radiobutton(root, text=\"Subtract\", variable=var, value=2)\n",
    "multiply_button = tk.Radiobutton(root, text=\"Multiply\", variable=var, value=3)\n",
    "divide_button = tk.Radiobutton(root, text=\"Divide\", variable=var, value=4)\n",
    "\n",
    "calculate_button = tk.Button(root, text=\"Calculate\", command=calculate)\n",
    "\n",
    "result_label = tk.Label(root)\n",
    "\n",
    "entry_1.pack()\n",
    "entry_2.pack()\n",
    "\n",
    "add_button.pack()\n",
    "subtract_button.pack()\n",
    "multiply_button.pack()\n",
    "divide_button.pack()\n",
    "\n",
    "calculate_button.pack()\n",
    "\n",
    "result_label.pack()\n",
    "\n",
    "root.mainloop()\n"
   ]
  },
  {
   "cell_type": "code",
   "execution_count": null,
   "id": "7fe91fea",
   "metadata": {},
   "outputs": [],
   "source": []
  }
 ],
 "metadata": {
  "kernelspec": {
   "display_name": "Python 3 (ipykernel)",
   "language": "python",
   "name": "python3"
  },
  "language_info": {
   "codemirror_mode": {
    "name": "ipython",
    "version": 3
   },
   "file_extension": ".py",
   "mimetype": "text/x-python",
   "name": "python",
   "nbconvert_exporter": "python",
   "pygments_lexer": "ipython3",
   "version": "3.9.13"
  }
 },
 "nbformat": 4,
 "nbformat_minor": 5
}
