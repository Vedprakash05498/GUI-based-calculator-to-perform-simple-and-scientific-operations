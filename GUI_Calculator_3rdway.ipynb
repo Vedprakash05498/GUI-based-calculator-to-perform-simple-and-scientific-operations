{
 "cells": [
  {
   "cell_type": "code",
   "execution_count": null,
   "id": "e1c0a312",
   "metadata": {},
   "outputs": [],
   "source": [
    "import tkinter as tk\n",
    "\n",
    "def calculate():\n",
    "    first_number = int(first_number_entry.get())\n",
    "    second_number = int(second_number_entry.get())\n",
    "    operator = operator_entry.get()\n",
    "\n",
    "    if operator == \"1\":\n",
    "        result = first_number + second_number\n",
    "        result_label.config(text=\"Result: \" + str(result))\n",
    "    elif operator == \"2\":\n",
    "        result = first_number - second_number\n",
    "        result_label.config(text=\"Result: \" + str(result))\n",
    "    elif operator == \"3\":\n",
    "        result = first_number * second_number\n",
    "        result_label.config(text=\"Result: \" + str(result))\n",
    "    elif operator == \"4\":\n",
    "        result = first_number / second_number\n",
    "        result_label.config(text=\"Result: \" + str(result))\n",
    "    else:\n",
    "        result_label.config(text=\"Invalid operator\")\n",
    "\n",
    "# GUI setup\n",
    "root = tk.Tk()\n",
    "root.title(\"Calculator\")\n",
    "\n",
    "first_number_label = tk.Label(root, text=\"First number\")\n",
    "first_number_label.pack()\n",
    "first_number_entry = tk.Entry(root)\n",
    "first_number_entry.pack()\n",
    "\n",
    "second_number_label = tk.Label(root, text=\"Second number\")\n",
    "second_number_label.pack()\n",
    "second_number_entry = tk.Entry(root)\n",
    "second_number_entry.pack()\n",
    "\n",
    "operator_label = tk.Label(root, text=\"Operator (1-Addition, 2-Subtraction, 3-Multiplication, 4-Division)\")\n",
    "operator_label.pack()\n",
    "operator_entry = tk.Entry(root)\n",
    "operator_entry.pack()\n",
    "\n",
    "calculate_button = tk.Button(root, text=\"Calculate\", command=calculate)\n",
    "calculate_button.pack()\n",
    "\n",
    "result_label = tk.Label(root, text=\"Result\")\n",
    "result_label.pack()\n",
    "\n",
    "root.mainloop()\n"
   ]
  },
  {
   "cell_type": "code",
   "execution_count": null,
   "id": "3cd50aa1",
   "metadata": {},
   "outputs": [],
   "source": []
  }
 ],
 "metadata": {
  "kernelspec": {
   "display_name": "Python 3 (ipykernel)",
   "language": "python",
   "name": "python3"
  },
  "language_info": {
   "codemirror_mode": {
    "name": "ipython",
    "version": 3
   },
   "file_extension": ".py",
   "mimetype": "text/x-python",
   "name": "python",
   "nbconvert_exporter": "python",
   "pygments_lexer": "ipython3",
   "version": "3.9.13"
  }
 },
 "nbformat": 4,
 "nbformat_minor": 5
}
